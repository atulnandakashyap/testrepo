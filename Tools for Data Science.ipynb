{
 "cells": [
  {
   "cell_type": "markdown",
   "id": "ff6e45a0-f851-4feb-bc55-66b14fe170cc",
   "metadata": {},
   "source": [
    "# My Jupyter Notebook on IBM Watson Studio"
   ]
  },
  {
   "cell_type": "markdown",
   "id": "35bbb25a-0a20-44c5-af12-8a20e6d5f2f9",
   "metadata": {},
   "source": [
    "**Atul Nanda Kashyap** <br>\n",
    "Data Scientist"
   ]
  },
  {
   "cell_type": "markdown",
   "id": "d638f7ae-2ad0-4b0b-8737-9db93b561aac",
   "metadata": {},
   "source": [
    "*I am interested in Data Science as I love working with data and it is going to be the next big thing in the industry. Businesses are going to heavily rely on data to devise future strategies.*<br>\n",
    "*As a matter of fact, they have already started doing that.*"
   ]
  },
  {
   "cell_type": "markdown",
   "id": "3de0eb96-ec57-4ba9-b239-69e42c298a60",
   "metadata": {},
   "source": [
    "Code in next cell will print table of 5 till 5x10"
   ]
  },
  {
   "cell_type": "code",
   "execution_count": 4,
   "id": "51759187-7271-4103-86de-2ee875fb800f",
   "metadata": {},
   "outputs": [
    {
     "name": "stdout",
     "output_type": "stream",
     "text": [
      "5 x 1  -  5\n",
      "5 x 2  -  10\n",
      "5 x 3  -  15\n",
      "5 x 4  -  20\n",
      "5 x 5  -  25\n",
      "5 x 6  -  30\n",
      "5 x 7  -  35\n",
      "5 x 8  -  40\n",
      "5 x 9  -  45\n",
      "5 x 10  -  50\n"
     ]
    }
   ],
   "source": [
    "for i in range(1,11):\n",
    "    print(\"5 x\",i,\" - \",5*i)"
   ]
  },
  {
   "cell_type": "markdown",
   "id": "67cea5f8-daac-4a6f-a1a4-162c3bf1718e",
   "metadata": {},
   "source": [
    "<br><br>\n",
    "\n",
    "This was a good exercise\n",
    "- This is bullet 1\n",
    "- This is bullet 2\n",
    "***\n",
    "Below is a table\n",
    "\n",
    "| Col1 | Col2 | Col3 |\n",
    "| --- | --- | --- |\n",
    "| Row1 | Row1 | Row1 |\n",
    "| Row2 | Row2 | Row2 |\n",
    "***\n",
    "Below is numbered list\n",
    "1. First point\n",
    "    1. Sub-numbered list\n",
    "    2. Sub-numbered list\n",
    "2. Second point\n",
    "***\n",
    "> This is a blockquote\n",
    "***\n",
    "~~This is how you strike through~~"
   ]
  },
  {
   "cell_type": "code",
   "execution_count": null,
   "id": "39f6bb75-d89c-4ca4-b108-487b846153dc",
   "metadata": {},
   "outputs": [],
   "source": []
  }
 ],
 "metadata": {
  "kernelspec": {
   "display_name": "Python 3 (ipykernel)",
   "language": "python",
   "name": "python3"
  },
  "language_info": {
   "codemirror_mode": {
    "name": "ipython",
    "version": 3
   },
   "file_extension": ".py",
   "mimetype": "text/x-python",
   "name": "python",
   "nbconvert_exporter": "python",
   "pygments_lexer": "ipython3",
   "version": "3.9.15"
  },
  "toc-autonumbering": false,
  "toc-showcode": false,
  "toc-showmarkdowntxt": false,
  "toc-showtags": false
 },
 "nbformat": 4,
 "nbformat_minor": 5
}
